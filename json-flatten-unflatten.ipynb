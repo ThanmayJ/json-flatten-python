{
  "nbformat": 4,
  "nbformat_minor": 0,
  "metadata": {
    "colab": {
      "name": "json-flatten-unflatten.ipynb",
      "provenance": [],
      "collapsed_sections": []
    },
    "kernelspec": {
      "name": "python3",
      "display_name": "Python 3"
    },
    "language_info": {
      "name": "python"
    }
  },
  "cells": [
    {
      "cell_type": "code",
      "metadata": {
        "id": "0o2z3qExOXDg"
      },
      "source": [
        "import json\n",
        "from json_flattener import flatten, unflatten\n",
        "import pprint\n",
        "\n",
        "pp = pprint.PrettyPrinter(indent=2)\n",
        "\n",
        "FILENAME = 'sample4.json'\n",
        "f = open(FILENAME, 'r')\n",
        "data = json.load(f)\n",
        "f.close()\n",
        "\n",
        "flattened = flatten(data)\n",
        "unflattened = unflatten(flattened)"
      ],
      "execution_count": 1,
      "outputs": []
    },
    {
      "cell_type": "code",
      "metadata": {
        "id": "Ow_fKsP5CK0q",
        "colab": {
          "base_uri": "https://localhost:8080/"
        },
        "outputId": "2be5f22f-04fd-4cf7-d290-a5dac98dcd32"
      },
      "source": [
        "pp.pprint(data)"
      ],
      "execution_count": 2,
      "outputs": [
        {
          "output_type": "stream",
          "text": [
            "{ 'people': [ { 'age': 28,\n",
            "                'firstName': 'Joe',\n",
            "                'gender': 'male',\n",
            "                'lastName': 'Jackson',\n",
            "                'number': '7349282382'},\n",
            "              { 'age': 32,\n",
            "                'firstName': 'James',\n",
            "                'gender': 'male',\n",
            "                'lastName': 'Smith',\n",
            "                'number': '5678568567'},\n",
            "              { 'age': 24,\n",
            "                'firstName': 'Emily',\n",
            "                'gender': 'female',\n",
            "                'lastName': 'Jones',\n",
            "                'number': '456754675'}]}\n"
          ],
          "name": "stdout"
        }
      ]
    },
    {
      "cell_type": "code",
      "metadata": {
        "id": "WRoC9h36CMtW",
        "colab": {
          "base_uri": "https://localhost:8080/"
        },
        "outputId": "edc32dd9-bf3e-43b5-c361-02d1807a33fe"
      },
      "source": [
        "pp.pprint(flattened)"
      ],
      "execution_count": 4,
      "outputs": [
        {
          "output_type": "stream",
          "text": [
            "{ 'people.[0].age': 28,\n",
            "  'people.[0].firstName': 'Joe',\n",
            "  'people.[0].gender': 'male',\n",
            "  'people.[0].lastName': 'Jackson',\n",
            "  'people.[0].number': '7349282382',\n",
            "  'people.[1].age': 32,\n",
            "  'people.[1].firstName': 'James',\n",
            "  'people.[1].gender': 'male',\n",
            "  'people.[1].lastName': 'Smith',\n",
            "  'people.[1].number': '5678568567',\n",
            "  'people.[2].age': 24,\n",
            "  'people.[2].firstName': 'Emily',\n",
            "  'people.[2].gender': 'female',\n",
            "  'people.[2].lastName': 'Jones',\n",
            "  'people.[2].number': '456754675'}\n"
          ],
          "name": "stdout"
        }
      ]
    },
    {
      "cell_type": "code",
      "metadata": {
        "id": "vSfY49sHCOva",
        "colab": {
          "base_uri": "https://localhost:8080/"
        },
        "outputId": "9b1d247a-af2e-46f7-ab4d-f3e4ef7508ff"
      },
      "source": [
        "pp.pprint(unflattened)"
      ],
      "execution_count": 5,
      "outputs": [
        {
          "output_type": "stream",
          "text": [
            "{ 'people': [ { 'age': 28,\n",
            "                'firstName': 'Joe',\n",
            "                'gender': 'male',\n",
            "                'lastName': 'Jackson',\n",
            "                'number': '7349282382'},\n",
            "              { 'age': 32,\n",
            "                'firstName': 'James',\n",
            "                'gender': 'male',\n",
            "                'lastName': 'Smith',\n",
            "                'number': '5678568567'},\n",
            "              { 'age': 24,\n",
            "                'firstName': 'Emily',\n",
            "                'gender': 'female',\n",
            "                'lastName': 'Jones',\n",
            "                'number': '456754675'}]}\n"
          ],
          "name": "stdout"
        }
      ]
    },
    {
      "cell_type": "code",
      "metadata": {
        "colab": {
          "base_uri": "https://localhost:8080/"
        },
        "id": "orlXPtObP2uB",
        "outputId": "861de3e0-14a5-486d-d16a-6f78699d9e82"
      },
      "source": [
        "for i in range(4):\n",
        "    FILENAME = 'sample' + str(i+1) + '.json'\n",
        "    f = open(FILENAME, 'r')\n",
        "    data = json.load(f)\n",
        "    f.close()\n",
        "  \n",
        "    flattened = flatten(data)\n",
        "    unflattened = unflatten(flattened)\n",
        "\n",
        "    print(FILENAME , '-' , data == unflattened)   # CHECKS IF UNFLATTENING AFTER FLATTENING GIVES ORIGINAL INPUT"
      ],
      "execution_count": 6,
      "outputs": [
        {
          "output_type": "stream",
          "text": [
            "sample1.json - True\n",
            "sample2.json - True\n",
            "sample3.json - True\n",
            "sample4.json - True\n"
          ],
          "name": "stdout"
        }
      ]
    }
  ]
}
